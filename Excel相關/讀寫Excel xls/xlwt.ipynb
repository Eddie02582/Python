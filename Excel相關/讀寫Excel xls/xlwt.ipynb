{
 "cells": [
  {
   "cell_type": "code",
   "execution_count": 8,
   "id": "7d0a3eab",
   "metadata": {},
   "outputs": [],
   "source": [
    "import xlwt"
   ]
  },
  {
   "cell_type": "code",
   "execution_count": 14,
   "id": "6e969465",
   "metadata": {},
   "outputs": [],
   "source": [
    "workbook = xlwt.Workbook(encoding = 'utf-8')"
   ]
  },
  {
   "cell_type": "code",
   "execution_count": 15,
   "id": "058c4d4a",
   "metadata": {},
   "outputs": [],
   "source": [
    "worksheet = workbook.add_sheet('My Worksheet')"
   ]
  },
  {
   "cell_type": "code",
   "execution_count": 16,
   "id": "4d27c0f8",
   "metadata": {},
   "outputs": [],
   "source": [
    "# write value 5 to excel row = 0,col = 0 \n",
    "worksheet.write(0,0,5)"
   ]
  },
  {
   "cell_type": "code",
   "execution_count": 17,
   "id": "1209caff",
   "metadata": {},
   "outputs": [],
   "source": [
    "# write value 2 to excel row = 0,col = 1\n",
    "worksheet.write(0, 1,2 )"
   ]
  },
  {
   "cell_type": "code",
   "execution_count": 18,
   "id": "0df06cc4",
   "metadata": {},
   "outputs": [],
   "source": [
    "# 設定單元格寬度\n",
    "worksheet.col(0).width = 100"
   ]
  },
  {
   "cell_type": "code",
   "execution_count": 19,
   "id": "c1979621",
   "metadata": {},
   "outputs": [],
   "source": [
    "# 設定公式\n",
    "worksheet.write(1, 0, xlwt.Formula('A1*B1'))"
   ]
  },
  {
   "cell_type": "code",
   "execution_count": 20,
   "id": "05bd8df3",
   "metadata": {},
   "outputs": [],
   "source": [
    "worksheet.write(1, 1, xlwt.Formula('SUM(A1,B1)'))"
   ]
  },
  {
   "cell_type": "code",
   "execution_count": 21,
   "id": "6ee9ff71",
   "metadata": {},
   "outputs": [],
   "source": [
    "#新增一個超連結\n",
    "worksheet.write(0, 3, xlwt.Formula('HYPERLINK(\"http://www.google.com\";\"Google\")'))"
   ]
  },
  {
   "cell_type": "code",
   "execution_count": 22,
   "id": "18f6fde3",
   "metadata": {},
   "outputs": [],
   "source": [
    "#Merge r1, r2, c1, c2 \n",
    "#merge row 2 col 3-4\n",
    "worksheet.write_merge(2, 2, 3, 4, 'Merge') "
   ]
  },
  {
   "cell_type": "code",
   "execution_count": 41,
   "id": "b9d98330",
   "metadata": {},
   "outputs": [],
   "source": [
    "# 初始化樣式\n",
    "style = xlwt.XFStyle() "
   ]
  },
  {
   "cell_type": "code",
   "execution_count": 42,
   "id": "92dba717",
   "metadata": {},
   "outputs": [],
   "source": [
    "#設定文字樣式\n",
    "font = xlwt.Font()"
   ]
  },
  {
   "cell_type": "code",
   "execution_count": 43,
   "id": "bf6a7292",
   "metadata": {},
   "outputs": [],
   "source": [
    "font.name = 'Times New Roman'"
   ]
  },
  {
   "cell_type": "code",
   "execution_count": 44,
   "id": "5f12c44b",
   "metadata": {},
   "outputs": [],
   "source": [
    "font.bold = True"
   ]
  },
  {
   "cell_type": "code",
   "execution_count": 45,
   "id": "6c8e4f91",
   "metadata": {},
   "outputs": [],
   "source": [
    "font.underline = True"
   ]
  },
  {
   "cell_type": "code",
   "execution_count": 46,
   "id": "22ce871a",
   "metadata": {},
   "outputs": [],
   "source": [
    "font.italic = True"
   ]
  },
  {
   "cell_type": "code",
   "execution_count": 47,
   "id": "b01a9e43",
   "metadata": {},
   "outputs": [],
   "source": [
    "style.font = font"
   ]
  },
  {
   "cell_type": "code",
   "execution_count": 48,
   "id": "b56c7019",
   "metadata": {},
   "outputs": [],
   "source": [
    "#設定邊框\n",
    "borders = xlwt.Borders()"
   ]
  },
  {
   "cell_type": "code",
   "execution_count": 49,
   "id": "150e0130",
   "metadata": {},
   "outputs": [],
   "source": [
    "# DASHED ,NO_LINE,THIN\n",
    "borders.left = xlwt.Borders.DASHED"
   ]
  },
  {
   "cell_type": "code",
   "execution_count": 50,
   "id": "6e17b485",
   "metadata": {},
   "outputs": [],
   "source": [
    "borders.right = xlwt.Borders.DASHED"
   ]
  },
  {
   "cell_type": "code",
   "execution_count": 51,
   "id": "d3ffae15",
   "metadata": {},
   "outputs": [],
   "source": [
    "borders.left_colour = 0x40"
   ]
  },
  {
   "cell_type": "code",
   "execution_count": 52,
   "id": "211abdbc",
   "metadata": {},
   "outputs": [],
   "source": [
    "style.borders = borders"
   ]
  },
  {
   "cell_type": "code",
   "execution_count": 53,
   "id": "862e8bf7",
   "metadata": {},
   "outputs": [],
   "source": [
    "# 為單元格設定背景色:\n",
    "pattern = xlwt.Pattern()"
   ]
  },
  {
   "cell_type": "code",
   "execution_count": 54,
   "id": "54790cbc",
   "metadata": {},
   "outputs": [],
   "source": [
    "pattern.pattern = xlwt.Pattern.SOLID_PATTERN "
   ]
  },
  {
   "cell_type": "code",
   "execution_count": 55,
   "id": "3e62be57",
   "metadata": {},
   "outputs": [],
   "source": [
    "pattern.pattern_fore_colour = 5"
   ]
  },
  {
   "cell_type": "code",
   "execution_count": 56,
   "id": "17fa720c",
   "metadata": {},
   "outputs": [],
   "source": [
    "style.pattern = pattern"
   ]
  },
  {
   "cell_type": "code",
   "execution_count": 57,
   "id": "12dde444",
   "metadata": {},
   "outputs": [],
   "source": [
    "worksheet.write(5, 2, 'Style', style)"
   ]
  },
  {
   "cell_type": "code",
   "execution_count": 58,
   "id": "7227a2af",
   "metadata": {},
   "outputs": [],
   "source": [
    "workbook.save('Excel_Style.xls')"
   ]
  },
  {
   "cell_type": "code",
   "execution_count": null,
   "id": "e5509862",
   "metadata": {},
   "outputs": [],
   "source": []
  }
 ],
 "metadata": {
  "kernelspec": {
   "display_name": "data",
   "language": "python",
   "name": "data"
  },
  "language_info": {
   "codemirror_mode": {
    "name": "ipython",
    "version": 3
   },
   "file_extension": ".py",
   "mimetype": "text/x-python",
   "name": "python",
   "nbconvert_exporter": "python",
   "pygments_lexer": "ipython3",
   "version": "3.6.8"
  }
 },
 "nbformat": 4,
 "nbformat_minor": 5
}
