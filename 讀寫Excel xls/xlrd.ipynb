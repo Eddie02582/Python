{
 "cells": [
  {
   "cell_type": "code",
   "execution_count": 2,
   "id": "31d14ea4",
   "metadata": {},
   "outputs": [],
   "source": [
    "import xlrd"
   ]
  },
  {
   "cell_type": "code",
   "execution_count": 3,
   "id": "be19062f",
   "metadata": {},
   "outputs": [],
   "source": [
    "path = r\"test.xls\""
   ]
  },
  {
   "cell_type": "code",
   "execution_count": 4,
   "id": "77152ec1",
   "metadata": {
    "scrolled": true
   },
   "outputs": [],
   "source": [
    "#get workbook\n",
    "workbook = xlrd.open_workbook(path)"
   ]
  },
  {
   "cell_type": "code",
   "execution_count": 5,
   "id": "35832ff2",
   "metadata": {},
   "outputs": [
    {
     "data": {
      "text/plain": [
       "['test1', 'test2', 'Sheet3']"
      ]
     },
     "execution_count": 5,
     "metadata": {},
     "output_type": "execute_result"
    }
   ],
   "source": [
    "#get sheet_names\n",
    "workbook.sheet_names()"
   ]
  },
  {
   "cell_type": "code",
   "execution_count": 6,
   "id": "48efd26c",
   "metadata": {},
   "outputs": [],
   "source": [
    "#get worksheet by name\n",
    "worksheet = workbook.sheet_by_name(\"test1\")"
   ]
  },
  {
   "cell_type": "code",
   "execution_count": 7,
   "id": "f575d580",
   "metadata": {},
   "outputs": [
    {
     "data": {
      "text/plain": [
       "'testC2'"
      ]
     },
     "execution_count": 7,
     "metadata": {},
     "output_type": "execute_result"
    }
   ],
   "source": [
    "#get cell value row = 2 col = 3 (start from 0)\n",
    "worksheet.cell_value(1,2) "
   ]
  },
  {
   "cell_type": "code",
   "execution_count": 8,
   "id": "ec8366d6",
   "metadata": {},
   "outputs": [
    {
     "data": {
      "text/plain": [
       "6"
      ]
     },
     "execution_count": 8,
     "metadata": {},
     "output_type": "execute_result"
    }
   ],
   "source": [
    "# get max row\n",
    "worksheet.nrows"
   ]
  },
  {
   "cell_type": "code",
   "execution_count": 13,
   "id": "8163df27",
   "metadata": {},
   "outputs": [
    {
     "data": {
      "text/plain": [
       "3"
      ]
     },
     "execution_count": 13,
     "metadata": {},
     "output_type": "execute_result"
    }
   ],
   "source": [
    "# get max column\n",
    "worksheet.ncols"
   ]
  },
  {
   "cell_type": "code",
   "execution_count": 9,
   "id": "53d518b7",
   "metadata": {},
   "outputs": [],
   "source": [
    "# get row data as list\n",
    "rows = worksheet.get_rows()"
   ]
  },
  {
   "cell_type": "code",
   "execution_count": 10,
   "id": "f565ab5f",
   "metadata": {},
   "outputs": [
    {
     "name": "stdout",
     "output_type": "stream",
     "text": [
      "testA1\n",
      "testA2\n",
      "testA3\n",
      "testA4\n",
      "testA5\n",
      "testA6\n"
     ]
    }
   ],
   "source": [
    "for row in rows: \n",
    "    print(row[0].value) # 輸出此行第一列的資料"
   ]
  },
  {
   "cell_type": "code",
   "execution_count": 17,
   "id": "f0abfe03",
   "metadata": {},
   "outputs": [],
   "source": [
    "worksheet2 = workbook.sheet_by_index(1)"
   ]
  },
  {
   "cell_type": "code",
   "execution_count": 18,
   "id": "1fef9429",
   "metadata": {},
   "outputs": [
    {
     "data": {
      "text/plain": [
       "'C2'"
      ]
     },
     "execution_count": 18,
     "metadata": {},
     "output_type": "execute_result"
    }
   ],
   "source": [
    "#get cell value row = 2 col = 3 (start from 0)\n",
    "worksheet2.cell_value(1,2) "
   ]
  },
  {
   "cell_type": "code",
   "execution_count": null,
   "id": "bc98c25e",
   "metadata": {},
   "outputs": [],
   "source": []
  },
  {
   "cell_type": "code",
   "execution_count": null,
   "id": "f2d68fd7",
   "metadata": {},
   "outputs": [],
   "source": []
  },
  {
   "cell_type": "code",
   "execution_count": null,
   "id": "08ce85b4",
   "metadata": {},
   "outputs": [],
   "source": []
  }
 ],
 "metadata": {
  "kernelspec": {
   "display_name": "data",
   "language": "python",
   "name": "data"
  },
  "language_info": {
   "codemirror_mode": {
    "name": "ipython",
    "version": 3
   },
   "file_extension": ".py",
   "mimetype": "text/x-python",
   "name": "python",
   "nbconvert_exporter": "python",
   "pygments_lexer": "ipython3",
   "version": "3.6.8"
  }
 },
 "nbformat": 4,
 "nbformat_minor": 5
}
